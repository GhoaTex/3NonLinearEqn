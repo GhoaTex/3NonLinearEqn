{
 "cells": [
  {
   "cell_type": "code",
   "execution_count": 1,
   "metadata": {},
   "outputs": [
    {
     "name": "stdout",
     "output_type": "stream",
     "text": [
      "Populating the interactive namespace from numpy and matplotlib\n"
     ]
    }
   ],
   "source": [
    "%pylab inline\n",
    "from __future__ import division \n",
    "import numpy as np\n",
    "import scipy as sp\n",
    "import scipy.optimize as opt\n",
    "from scipy.optimize import fsolve\n",
    "from mpmath import findroot\n",
    "import matplotlib.pyplot as plt\n",
    "%matplotlib inline\n",
    "import itertools  \n",
    "from pyearth import Earth as MARS\n",
    "import random\n",
    "import sympy as sym\n",
    "from sympy import re, im, E, I\n",
    "import timeit\n",
    "from sympy import *\n",
    "import pickle\n",
    "#from sympy.solvers.solveset import solveset, solveset_real,nonlinsolve"
   ]
  },
  {
   "cell_type": "code",
   "execution_count": 2,
   "metadata": {
    "collapsed": true
   },
   "outputs": [],
   "source": [
    "x2plot_read=pickle.load(open(\"x2plot.p\",\"rb\"))\n",
    "Alist_read=pickle.load(open(\"Alist.p\",\"rb\"))\n",
    "Blist_read=pickle.load(open(\"Blist.p\",\"rb\"))\n",
    "Clist_read=pickle.load(open(\"Clist.p\",\"rb\"))\n",
    "Dlist_read=pickle.load(open(\"Dlist.p\",\"rb\"))\n",
    "c1list_read=pickle.load(open(\"c1list.p\",\"rb\"))\n",
    "c2list_read=pickle.load(open(\"c2list.p\",\"rb\"))\n",
    "c3list_read=pickle.load(open(\"c3list.p\",\"rb\"))\n",
    "c4list_read=pickle.load(open(\"c4list.p\",\"rb\"))"
   ]
  },
  {
   "cell_type": "code",
   "execution_count": 5,
   "metadata": {},
   "outputs": [
    {
     "name": "stdout",
     "output_type": "stream",
     "text": [
      "Time:  1.9560204689623788\n"
     ]
    }
   ],
   "source": [
    "#Define as symbol, 1st unknown\n",
    "alpha=sym.Symbol('x',positive=True);\n",
    "#InGaN absorption coefs will be stored in the following array corresponding to each wavelength\n",
    "Alpha2plot=[];\n",
    "start = timeit.default_timer()\n",
    "#initial guess for nsolve\n",
    "y1=1;\n",
    "y2=1;\n",
    "y3=1;\n",
    "nbr=0;\n",
    "upb=len(x2plot_read)\n",
    "while nbr<upb:\n",
    "    #Define two other unknowns.\n",
    "    U1p= sym.Symbol('u',real=True,imaginary=False);\n",
    "    U1m= sym.Symbol('v',real=True,imaginary=False);\n",
    "    #Define the set of equation to solve\n",
    "    A=Alist_read[nbr];\n",
    "    B=Blist_read[nbr];\n",
    "    C=Clist_read[nbr];\n",
    "    D=Dlist_read[nbr];\n",
    "    \n",
    "    c1=c1list_read[nbr];\n",
    "    c2=c2list_read[nbr];\n",
    "    c3=c3list_read[nbr];\n",
    "    c4=c4list_read[nbr];\n",
    "    eq1=abs(A)**2+abs(B)**2*c2+2*(re(conjugate(A)*B)*U1p+im(conjugate(A)*B)*U1m)-c1;\n",
    "    eq2=abs(C)**2+abs(D)**2*c4+2*(re(conjugate(C)*D)/U1m+im(conjugate(C)*D)/U1p)-c3;\n",
    "    eq3=U1p**2+U1m**2-c2;\n",
    "    #Eq1=lambdify([alpha,U1p,U1m], eq1,\"numpy\")\n",
    "    #Eq2=lambdify([alpha,U1p,U1m], eq2,\"numpy\")\n",
    "    #Eq3=lambdify([alpha,U1p,U1m], eq3,\"numpy\")\n",
    "    nbr=nbr+1\n",
    "    \n",
    "\n",
    "\n",
    "\"\"\"\n",
    "\n",
    "    def equations(p):\n",
    "        uva1,uva2,uva3 = p\n",
    "        eqn1=Eq1(uva1,uva2,uva3)\n",
    "        eqn2=Eq2(uva1,uva2,uva3)\n",
    "        eqn3=Eq3(uva1,uva2,uva3)\n",
    "        return (eqn1,eqn2,eqn3)\n",
    "\n",
    "    def fNM(p):\n",
    "        return abs(sum(array(equations(p))**2)-0)\n",
    "        \"\"\"\n",
    "\n",
    "    #minimum =opt.differential_evolution(fNM, bounds=((0,100000),(0,100000),(0,100000)))\n",
    "    #y1,y2,y3=fsolve(equations, (minimum[0], minimum[1], minimum[2]))\n",
    "    #minimum =opt.fmin_bfgs(fNM, (y1,y2),disp=False)\n",
    "    #minimum=opt.root(equations, [y1,y2,y3],method=\"lm\")\n",
    "\n",
    "    #y1=minimum.x[0];\n",
    "    #y2=minimum.x[1];\n",
    "    #y1,y2=fsolve(equations, (y1, y2))\n",
    "    #minimum=opt.fmin(fNM, (y1,y2,y3),disp=False)\n",
    "    #y1=minimum.x[0];\n",
    "    #y2=minimum.x[1];\n",
    "    #y3=minimum.x[2];\n",
    "    #y1,y2,y3=fsolve(equations,[y1, y2,y3])\n",
    "    \n",
    "    #(y1,y2,y3)=sym.nsolve([eq1,eq2,eq3],[alpha,U1p,U1m],[y1,y2,y3],verify=False, solver='bisect');\n",
    "\n",
    "    \n",
    "    #Alpha2plot.append(y1);\n",
    "    \n",
    "\n",
    "stop = timeit.default_timer()\n",
    "print('Time: ', stop - start)  "
   ]
  },
  {
   "cell_type": "code",
   "execution_count": 12,
   "metadata": {
    "scrolled": true
   },
   "outputs": [
    {
     "data": {
      "text/plain": [
       "u**2 + v**2 - 0.180519074236942"
      ]
     },
     "execution_count": 12,
     "metadata": {},
     "output_type": "execute_result"
    }
   ],
   "source": [
    "eq3"
   ]
  },
  {
   "cell_type": "code",
   "execution_count": null,
   "metadata": {
    "collapsed": true
   },
   "outputs": [],
   "source": []
  }
 ],
 "metadata": {
  "kernelspec": {
   "display_name": "Python 3",
   "language": "python",
   "name": "python3"
  },
  "language_info": {
   "codemirror_mode": {
    "name": "ipython",
    "version": 3
   },
   "file_extension": ".py",
   "mimetype": "text/x-python",
   "name": "python",
   "nbconvert_exporter": "python",
   "pygments_lexer": "ipython3",
   "version": "3.6.13"
  }
 },
 "nbformat": 4,
 "nbformat_minor": 2
}
